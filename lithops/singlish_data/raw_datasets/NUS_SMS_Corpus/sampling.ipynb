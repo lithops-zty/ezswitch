{
 "cells": [
  {
   "cell_type": "code",
   "execution_count": 5,
   "id": "8891403e-70e9-422f-b9a1-138721a94a64",
   "metadata": {},
   "outputs": [],
   "source": [
    "import numpy as np\n",
    "import random"
   ]
  },
  {
   "cell_type": "code",
   "execution_count": 4,
   "id": "a7aa085c-ed03-4a16-9ad5-fb776b832ff1",
   "metadata": {},
   "outputs": [
    {
     "data": {
      "text/plain": [
       "['everytime when i say this, i scare ppl say i childish',\n",
       " 'take CS4260 next sem?',\n",
       " 'Kianhua bah. Hahahaha',\n",
       " 'Ohh okay.',\n",
       " 'Ya if all is working fine',\n",
       " 'Ok can.',\n",
       " 't want to join us because he has watched it.',\n",
       " 'Poke me.. still waiting for bus:.',\n",
       " 'Night cycling near downtown. But like dead liddat nvr move lols',\n",
       " 'Yes c u at e lift lobby.']"
      ]
     },
     "execution_count": 4,
     "metadata": {},
     "output_type": "execute_result"
    }
   ],
   "source": [
    "with open(r'parsed.txt', 'r') as f:\n",
    "    data = f.read().split('\\n')\n",
    "data[:10]"
   ]
  },
  {
   "cell_type": "code",
   "execution_count": 11,
   "id": "a5c822e0-f920-4a82-8794-1a17a554fdb5",
   "metadata": {},
   "outputs": [],
   "source": [
    "data_longer_than_20 = list(filter(lambda x:len(x) > 20, data))"
   ]
  },
  {
   "cell_type": "code",
   "execution_count": 14,
   "id": "d5982c14-7acb-4c66-9a92-6b302c7fc307",
   "metadata": {},
   "outputs": [],
   "source": [
    "sampled = random.sample(data_longer_than_20, k=1000)"
   ]
  },
  {
   "cell_type": "code",
   "execution_count": 15,
   "id": "35ab5e1f-0d78-4bf6-9013-93037e60f70b",
   "metadata": {},
   "outputs": [
    {
     "data": {
      "text/plain": [
       "['4 tacos + 1 rajas burrito, right?',\n",
       " 'Are you still playing with gautham?',\n",
       " 'Hey shwetu, am going back home. Have work. Will catch you tomorrow..get well soon! :-)',\n",
       " \"Sorry, I'll call later\",\n",
       " 'Ya! Bout  <DECIMAL>  reach',\n",
       " 'Aiyo u just come lor.',\n",
       " 'Just after you smsed me.',\n",
       " 'hey guys, free this sat for ktv?',\n",
       " 'Sprite with lemon tea',\n",
       " 'k. Mayb i will pop by in lib coz gotta return books']"
      ]
     },
     "execution_count": 15,
     "metadata": {},
     "output_type": "execute_result"
    }
   ],
   "source": [
    "sampled[:10]"
   ]
  },
  {
   "cell_type": "code",
   "execution_count": 17,
   "id": "6c2a1800-4af0-4239-984f-579b196b03ea",
   "metadata": {},
   "outputs": [],
   "source": [
    "with open(r'sampled.txt', 'w') as f:\n",
    "    f.write('\\n'.join(sampled))"
   ]
  },
  {
   "cell_type": "code",
   "execution_count": 19,
   "id": "0aa9fdce-c55c-4a3f-b489-d4c7d78511dd",
   "metadata": {},
   "outputs": [],
   "source": [
    "import tqdm, time"
   ]
  },
  {
   "cell_type": "code",
   "execution_count": null,
   "id": "a7913a47-1906-405b-ac6c-1c339e8a85f9",
   "metadata": {},
   "outputs": [],
   "source": []
  }
 ],
 "metadata": {
  "kernelspec": {
   "display_name": "Python 3 (ipykernel)",
   "language": "python",
   "name": "python3"
  },
  "language_info": {
   "codemirror_mode": {
    "name": "ipython",
    "version": 3
   },
   "file_extension": ".py",
   "mimetype": "text/x-python",
   "name": "python",
   "nbconvert_exporter": "python",
   "pygments_lexer": "ipython3",
   "version": "3.9.18"
  }
 },
 "nbformat": 4,
 "nbformat_minor": 5
}
