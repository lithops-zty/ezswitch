{
 "cells": [
  {
   "cell_type": "code",
   "execution_count": 2,
   "id": "a79eac28-b05b-4038-b401-a631f1f18fd7",
   "metadata": {},
   "outputs": [],
   "source": [
    "import pandas as pd\n",
    "import os\n",
    "import numpy as np\n",
    "import json"
   ]
  },
  {
   "cell_type": "code",
   "execution_count": 3,
   "id": "a28dc2fb-b0bb-4d20-ad44-27c12e1898f1",
   "metadata": {},
   "outputs": [],
   "source": [
    "rest_df = pd.read_csv('sampled_8004_upload_rest.csv')"
   ]
  },
  {
   "cell_type": "code",
   "execution_count": 29,
   "id": "47938e49-1e4e-4510-91cd-353a2a9c9a84",
   "metadata": {},
   "outputs": [],
   "source": [
    "CHUNK_SIZE = 100"
   ]
  },
  {
   "cell_type": "code",
   "execution_count": 32,
   "id": "77cf2f6d-9a22-424f-9ab7-bb368c35a37a",
   "metadata": {},
   "outputs": [],
   "source": [
    "assignment = {}\n",
    "\n",
    "i = 0\n",
    "while i < rest_df.shape[0]:\n",
    "    till = min(i+CHUNK_SIZE, rest_df.shape[0])\n",
    "    range_str = f'{i:04}-{till:04}'\n",
    "    rest_df.iloc[i:till].to_csv(f'rest_chunks/sampled_8004_upload_rest_{range_str}.csv', index=False)\n",
    "    assignment[range_str] = []\n",
    "    i += CHUNK_SIZE"
   ]
  },
  {
   "cell_type": "code",
   "execution_count": 33,
   "id": "a76f86f9-d333-45f4-816a-db9207208cfb",
   "metadata": {},
   "outputs": [],
   "source": [
    "with open('../assignment.json', 'w') as f:\n",
    "    json.dump(assignment, f, indent=2)"
   ]
  },
  {
   "cell_type": "code",
   "execution_count": 8,
   "id": "48ef2bf3-231b-49c5-8f80-8c3d2e470201",
   "metadata": {},
   "outputs": [],
   "source": [
    "# rest_df.sort_values('src').to_csv('sampled_8004_upload_rest_sorted.csv', index=False)"
   ]
  },
  {
   "cell_type": "code",
   "execution_count": null,
   "id": "3c1be754-e17c-460a-aade-22924ff2cdb2",
   "metadata": {},
   "outputs": [],
   "source": []
  }
 ],
 "metadata": {
  "kernelspec": {
   "display_name": "Python 3 (ipykernel)",
   "language": "python",
   "name": "python3"
  },
  "language_info": {
   "codemirror_mode": {
    "name": "ipython",
    "version": 3
   },
   "file_extension": ".py",
   "mimetype": "text/x-python",
   "name": "python",
   "nbconvert_exporter": "python",
   "pygments_lexer": "ipython3",
   "version": "3.9.18"
  }
 },
 "nbformat": 4,
 "nbformat_minor": 5
}
