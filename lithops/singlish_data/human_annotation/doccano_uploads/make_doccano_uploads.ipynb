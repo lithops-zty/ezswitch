{
 "cells": [
  {
   "cell_type": "code",
   "execution_count": 21,
   "id": "5c025f4e-e080-4f1d-a156-c601f68362d9",
   "metadata": {},
   "outputs": [],
   "source": [
    "import pandas as pd\n",
    "import numpy as np"
   ]
  },
  {
   "cell_type": "code",
   "execution_count": 22,
   "id": "fa811f9c-f621-4284-aa10-6c2ed2f6d5c0",
   "metadata": {},
   "outputs": [],
   "source": [
    "trial_df = pd.read_csv('sampled_8004_trial.csv')\n",
    "test_df = pd.read_csv('sampled_8004_test.csv')\n",
    "rest_df = pd.read_csv('sampled_8004_rest.csv')"
   ]
  },
  {
   "cell_type": "code",
   "execution_count": 23,
   "id": "28060c1f-dd0c-4320-b1b1-1731178aaa85",
   "metadata": {},
   "outputs": [],
   "source": [
    "def make_upload(df):\n",
    "    columns = ['generated', 'src', 'tgt', 'id']\n",
    "    return df[columns].assign(label=np.nan)"
   ]
  },
  {
   "cell_type": "code",
   "execution_count": 24,
   "id": "d8c27ad0-f361-43a0-b6ae-bbb938b20636",
   "metadata": {},
   "outputs": [],
   "source": [
    "trial_upload_df = make_upload(trial_df)\n",
    "test_upload_df = make_upload(test_df)\n",
    "rest_upload_df = make_upload(rest_df)"
   ]
  },
  {
   "cell_type": "code",
   "execution_count": 25,
   "id": "93205ed6-cf28-4198-95bd-228b90c8e032",
   "metadata": {},
   "outputs": [],
   "source": [
    "trial_upload_df.to_csv('doccano_uploads/sampled_8004_upload_trial.csv', index=False)\n",
    "test_upload_df.to_csv('doccano_uploads/sampled_8004_upload_test.csv', index=False)\n",
    "rest_upload_df.to_csv('doccano_uploads/sampled_8004_upload_rest.csv', index=False)"
   ]
  },
  {
   "cell_type": "code",
   "execution_count": null,
   "id": "96a5ad62-026a-4463-bd6c-08bba86e66f7",
   "metadata": {},
   "outputs": [],
   "source": []
  }
 ],
 "metadata": {
  "kernelspec": {
   "display_name": "Python 3 (ipykernel)",
   "language": "python",
   "name": "python3"
  },
  "language_info": {
   "codemirror_mode": {
    "name": "ipython",
    "version": 3
   },
   "file_extension": ".py",
   "mimetype": "text/x-python",
   "name": "python",
   "nbconvert_exporter": "python",
   "pygments_lexer": "ipython3",
   "version": "3.9.18"
  }
 },
 "nbformat": 4,
 "nbformat_minor": 5
}
