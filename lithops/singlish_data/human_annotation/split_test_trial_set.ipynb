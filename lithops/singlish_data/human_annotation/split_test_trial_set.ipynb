{
 "cells": [
  {
   "cell_type": "markdown",
   "id": "1180722b-8f93-46ba-8b61-5acba46ea310",
   "metadata": {},
   "source": [
    "# Splitting out test set for quality check and trial set for familiarising"
   ]
  },
  {
   "cell_type": "code",
   "execution_count": 32,
   "id": "32c7cfa4-d287-435c-b8b4-feb6dbabaabb",
   "metadata": {},
   "outputs": [],
   "source": [
    "import pandas as pd\n",
    "import numpy as np"
   ]
  },
  {
   "cell_type": "code",
   "execution_count": 33,
   "id": "2de05930-a0e4-4187-841e-51fea8586183",
   "metadata": {},
   "outputs": [],
   "source": [
    "sampled = pd.read_csv('sampled_8004.csv')"
   ]
  },
  {
   "cell_type": "code",
   "execution_count": 34,
   "id": "3c609c90-028b-4f3b-b1d6-89623fa4345d",
   "metadata": {},
   "outputs": [
    {
     "data": {
      "text/plain": [
       "(array([7586, 6296, 7050, 2107, 5577]),\n",
       " array([5525,  263,  965, 2963, 6073, 2199, 5025, 7609, 7003, 2226]))"
      ]
     },
     "execution_count": 34,
     "metadata": {},
     "output_type": "execute_result"
    }
   ],
   "source": [
    "SEED = 42\n",
    "TEST_SIZE = 10\n",
    "TRIAL_SIZE = 5\n",
    "TOTAL_SIZE = 8004\n",
    "\n",
    "np.random.seed(SEED)\n",
    "trial_index, test_index, rest_index = np.split(np.random.permutation(np.arange(TOTAL_SIZE)), [TRIAL_SIZE, TRIAL_SIZE + TEST_SIZE])\n",
    "trial_index, test_index"
   ]
  },
  {
   "cell_type": "code",
   "execution_count": 35,
   "id": "bb18edbd-d7a2-417a-a9d6-e87710411b42",
   "metadata": {},
   "outputs": [],
   "source": [
    "trial_df, test_df, rest_df = sampled.iloc[trial_index], sampled.iloc[test_index], sampled.iloc[rest_index]"
   ]
  },
  {
   "cell_type": "code",
   "execution_count": 36,
   "id": "962c9e3d-69bc-4fcb-b92a-3083b0f7c545",
   "metadata": {},
   "outputs": [],
   "source": [
    "trial_df.to_csv('sampled_8004_trial.csv', index=False)"
   ]
  },
  {
   "cell_type": "code",
   "execution_count": 37,
   "id": "e35a963c-d8d6-422e-863c-14ff1eeda88f",
   "metadata": {},
   "outputs": [],
   "source": [
    "test_df.to_csv('sampled_8004_test.csv', index=False)"
   ]
  },
  {
   "cell_type": "code",
   "execution_count": 38,
   "id": "698eadd5-1bb2-489f-93d9-99cd0db5ecc1",
   "metadata": {},
   "outputs": [],
   "source": [
    "rest_df.to_csv('sampled_8004_rest.csv', index=False)"
   ]
  },
  {
   "cell_type": "code",
   "execution_count": null,
   "id": "2c2a2862-3dcf-44dd-881e-7f1a77bd481f",
   "metadata": {},
   "outputs": [],
   "source": []
  }
 ],
 "metadata": {
  "kernelspec": {
   "display_name": "Python 3 (ipykernel)",
   "language": "python",
   "name": "python3"
  },
  "language_info": {
   "codemirror_mode": {
    "name": "ipython",
    "version": 3
   },
   "file_extension": ".py",
   "mimetype": "text/x-python",
   "name": "python",
   "nbconvert_exporter": "python",
   "pygments_lexer": "ipython3",
   "version": "3.9.18"
  }
 },
 "nbformat": 4,
 "nbformat_minor": 5
}
