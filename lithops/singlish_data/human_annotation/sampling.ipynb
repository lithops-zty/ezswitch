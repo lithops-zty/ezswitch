{
 "cells": [
  {
   "cell_type": "code",
   "execution_count": 114,
   "id": "473fcaac-05ed-4b56-9e5f-d46b2230407e",
   "metadata": {},
   "outputs": [],
   "source": [
    "import numpy as np\n",
    "import pandas as pd\n",
    "# import uuid"
   ]
  },
  {
   "cell_type": "markdown",
   "id": "05f67bf0-2374-4f1f-ae11-b0425e098b8c",
   "metadata": {},
   "source": [
    "# Get randomized samples with seed = 42"
   ]
  },
  {
   "cell_type": "code",
   "execution_count": 115,
   "id": "34899854-f2c4-432c-a43c-86e0de102684",
   "metadata": {
    "scrolled": true
   },
   "outputs": [],
   "source": [
    "SEED = 42\n",
    "GROUP_SIZE = 2002\n",
    "SAMPLED_GROUP_SIZE = 667\n",
    "np.random.seed(SEED)\n",
    "sampled_index = np.random.choice(np.arange(2002), 667, replace=False)"
   ]
  },
  {
   "cell_type": "code",
   "execution_count": 116,
   "id": "44fdfd95-39bd-40c6-a05c-0179388470e4",
   "metadata": {},
   "outputs": [],
   "source": [
    "full_df = pd.read_csv('full_dataset/evaluation_sge-zh.csv')"
   ]
  },
  {
   "cell_type": "code",
   "execution_count": 117,
   "id": "45273bfd-e1d0-4360-89cd-ae13fdddbd00",
   "metadata": {},
   "outputs": [],
   "source": [
    "full_df = full_df.set_index(['method', 'model', 'direction'])"
   ]
  },
  {
   "cell_type": "code",
   "execution_count": 118,
   "id": "b3e7c97d-e4ad-4f18-9ece-7130bf573442",
   "metadata": {},
   "outputs": [],
   "source": [
    "sampled_df = full_df.groupby(level=[0, 1, 2]).nth(sampled_index)"
   ]
  },
  {
   "cell_type": "code",
   "execution_count": 119,
   "id": "cffba198-31be-4c09-bb38-345152dd1805",
   "metadata": {},
   "outputs": [],
   "source": [
    "sampled_df = sampled_df.reset_index()"
   ]
  },
  {
   "cell_type": "code",
   "execution_count": 120,
   "id": "70571d15-8731-42f5-bab4-84649a7bd263",
   "metadata": {},
   "outputs": [],
   "source": [
    "sampled_df = sampled_df.sample(frac=1, random_state=SEED)"
   ]
  },
  {
   "cell_type": "code",
   "execution_count": 121,
   "id": "8da1cf03-249e-46bf-abbd-4f47d868ed8f",
   "metadata": {},
   "outputs": [],
   "source": [
    "sampled_df.to_csv('sampled_8004.csv', index=False)"
   ]
  },
  {
   "cell_type": "markdown",
   "id": "a293abd2-ccac-43c0-8c75-a64dfeb3bdd3",
   "metadata": {},
   "source": [
    "# Get binary encoded choices for persistence"
   ]
  },
  {
   "cell_type": "code",
   "execution_count": 123,
   "id": "9a1a6e1a-a6c3-4912-b89c-98cad3110196",
   "metadata": {},
   "outputs": [
    {
     "name": "stdout",
     "output_type": "stream",
     "text": [
      "0010000000000001000000010000011010000000000111000101000010110001010101111100101001001000000000000001110000010101000100101001100010000001000001000000100000000000001100001010010100000010110010001010101100010000101110000010100000100001010011011000100100110010100101000110001111110100010000100100100001101001011101110000100000101000000110100001001010000011111000100101011110010010100011110000000001100010000001001001011110001010011101001100101100000100001001000000001011000001000000111111011000000111010000000111000001100011001000110110101100100001100010011011010001000001001010011001011111001011010010110010000101110110011110000000101100000100000000000011001000000000000000100010001110000000000011100000010000110010100100001100000100100100100001011010000010011101000011010001000001001010010110001000000000100011110000000110000010000100101010100001010000000001010101000000010000000000010000111100000000001001111101000010100000000010000110001101101100001110100000000011011010000110001100101011100001100011000011010000010000000011000101000110010001000001000011110110000100000000000100100001110000100010000010100011001100001100010000001000100000100000100000010000010101010100010000010001011001010100000010001000101010000000000010100110101110100000101010010001000100100100000011000110001010001100001011000010010010010110011010001011100011110011100000100001001000010110100000101000001000000000111101011011000001001010000010100110100110000001110110000110100001100001010001010101000001010100000000100000011000000101010000011010000100000000000100000110101011010011100111010101010110010110001010100000100101100001010011001011011110110000100000000001010011100001010011110001100001010110001110011100001001001000010100000010000100000100000000100111100001010100101000000000001000010011010101100100000000110001000000001100000100001001100011000001000101100000000000011100101100010101100111010011101000000000000010000100000001001001001110100110111001001110100111000100100010000000000010011000000001110011000011011100010010\n"
     ]
    }
   ],
   "source": [
    "x=['0']*2002\n",
    "for i in sampled_index:\n",
    "    x[i] = '1'\n",
    "print(''.join(x))"
   ]
  },
  {
   "cell_type": "code",
   "execution_count": null,
   "id": "59ffe8c8-ddfb-4fe4-865e-000efe1217f9",
   "metadata": {},
   "outputs": [],
   "source": []
  }
 ],
 "metadata": {
  "kernelspec": {
   "display_name": "Python 3 (ipykernel)",
   "language": "python",
   "name": "python3"
  },
  "language_info": {
   "codemirror_mode": {
    "name": "ipython",
    "version": 3
   },
   "file_extension": ".py",
   "mimetype": "text/x-python",
   "name": "python",
   "nbconvert_exporter": "python",
   "pygments_lexer": "ipython3",
   "version": "3.9.18"
  }
 },
 "nbformat": 4,
 "nbformat_minor": 5
}
