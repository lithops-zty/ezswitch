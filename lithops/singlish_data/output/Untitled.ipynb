{
 "cells": [
  {
   "cell_type": "code",
   "execution_count": 48,
   "id": "7a774e7f-1b91-4b8e-99bd-489ff2fc77d5",
   "metadata": {},
   "outputs": [],
   "source": [
    "import pandas as pd\n",
    "import numpy as np"
   ]
  },
  {
   "cell_type": "code",
   "execution_count": 62,
   "id": "be58b3a1-3d60-439d-a329-45ae04e19ad2",
   "metadata": {},
   "outputs": [],
   "source": [
    "df = pd.read_csv('compile_sge-zh.csv')"
   ]
  },
  {
   "cell_type": "code",
   "execution_count": 63,
   "id": "8c2f5570-e220-4b4f-9a96-a405b86c8d4f",
   "metadata": {},
   "outputs": [],
   "source": [
    "df = df[['src', 'tgt', 'generated']]\n",
    "df[['human_accuracy', 'human_fluency']] = np.nan\n",
    "df['id'] = np.arange(df.shape[0]) + 120121"
   ]
  },
  {
   "cell_type": "code",
   "execution_count": 64,
   "id": "a06c018b-d7cc-4efe-b588-78d27233c863",
   "metadata": {},
   "outputs": [],
   "source": [
    "df.to_csv('human_eval_sge-zh.csv', index=False)"
   ]
  },
  {
   "cell_type": "code",
   "execution_count": null,
   "id": "8997b53c-b98f-45f2-be80-4f5d8719a417",
   "metadata": {},
   "outputs": [],
   "source": []
  }
 ],
 "metadata": {
  "kernelspec": {
   "display_name": "Python 3 (ipykernel)",
   "language": "python",
   "name": "python3"
  },
  "language_info": {
   "codemirror_mode": {
    "name": "ipython",
    "version": 3
   },
   "file_extension": ".py",
   "mimetype": "text/x-python",
   "name": "python",
   "nbconvert_exporter": "python",
   "pygments_lexer": "ipython3",
   "version": "3.9.18"
  }
 },
 "nbformat": 4,
 "nbformat_minor": 5
}
